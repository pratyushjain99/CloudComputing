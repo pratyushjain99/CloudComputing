{
 "cells": [
  {
   "cell_type": "code",
   "execution_count": 26,
   "metadata": {},
   "outputs": [],
   "source": [
    "#inserted api key which we got from google cloud platform\n",
    "api_key = \"XXXXXXX\""
   ]
  },
  {
   "cell_type": "code",
   "execution_count": 27,
   "metadata": {},
   "outputs": [],
   "source": [
    "#importing necessary package; we installed google-api-python-client for this\n",
    "from apiclient.discovery import build"
   ]
  },
  {
   "cell_type": "code",
   "execution_count": 28,
   "metadata": {},
   "outputs": [],
   "source": [
    "#buildingg resource\n",
    "resource = build(\"customsearch\", 'v1', developerKey=api_key).cse()"
   ]
  },
  {
   "cell_type": "code",
   "execution_count": 29,
   "metadata": {},
   "outputs": [
    {
     "data": {
      "text/plain": [
       "googleapiclient.discovery.Resource"
      ]
     },
     "execution_count": 29,
     "metadata": {},
     "output_type": "execute_result"
    }
   ],
   "source": [
    "#checking type of resource\n",
    "type(resource)"
   ]
  },
  {
   "cell_type": "code",
   "execution_count": 30,
   "metadata": {},
   "outputs": [],
   "source": [
    "#insertting query as q and custom search enggine key as cx\n",
    "result = resource.list(q='indore', cx='1cf20fcaa973becd9').execute()"
   ]
  },
  {
   "cell_type": "code",
   "execution_count": 31,
   "metadata": {},
   "outputs": [
    {
     "data": {
      "text/plain": [
       "{'kind': 'customsearch#result',\n",
       " 'title': 'Eat Outdoors in Indore - WSJ',\n",
       " 'htmlTitle': 'Eat Outdoors in <b>Indore</b> - WSJ',\n",
       " 'link': 'https://www.wsj.com/articles/BL-SJB-11865',\n",
       " 'displayLink': 'www.wsj.com',\n",
       " 'snippet': 'Aug 2, 2013 ... Shohanlal Vyas prepares a \"Jaleba\" at Sarafa, a night food market in the central Indian city of Indore. Shreya Shah/The Wall Street Journal. By.',\n",
       " 'htmlSnippet': 'Aug 2, 2013 <b>...</b> Shohanlal Vyas prepares a &quot;Jaleba&quot; at Sarafa, a night food market in the central Indian city of <b>Indore</b>. Shreya Shah/The Wall Street Journal. By.',\n",
       " 'formattedUrl': 'https://www.wsj.com/articles/BL-SJB-11865',\n",
       " 'htmlFormattedUrl': 'https://www.wsj.com/articles/BL-SJB-11865',\n",
       " 'pagemap': {'cse_thumbnail': [{'src': 'https://encrypted-tbn1.gstatic.com/images?q=tbn:ANd9GcTNeasdOEhFT18FFl_0lVM_Z-YRPLsqRiV5udv_hkoLWT5Ra5BQ99ZjaQy3',\n",
       "    'width': '275',\n",
       "    'height': '183'}],\n",
       "  'imageobject': [{'creator': 'Shreya Shah/The Wall Street Journal',\n",
       "    'caption': 'Shohanlal Vyas prepares a \"Jaleba\" at Sarafa, a night food market in the central Indian city of Indore. Shreya Shah/The Wall Street Journal'},\n",
       "   {'contenturl': 'https://images.wsj.net/im-525659'},\n",
       "   {'contenturl': 'https://images.wsj.net/im-525989'},\n",
       "   {'contenturl': 'https://images.wsj.net/im-525069'},\n",
       "   {'contenturl': 'https://images.wsj.net/im-525219'},\n",
       "   {'contenturl': 'https://images.wsj.net/im-526240'},\n",
       "   {'contenturl': 'https://images.wsj.net/im-526121'},\n",
       "   {'contenturl': 'https://images.wsj.net/im-526125'},\n",
       "   {'contenturl': 'https://images.wsj.net/im-526068'},\n",
       "   {'contenturl': 'https://images.wsj.net/im-525228'},\n",
       "   {'contenturl': 'https://images.wsj.net/im-525610'},\n",
       "   {'contenturl': 'https://images.wsj.net/im-524722?width=115&height=65'},\n",
       "   {'contenturl': 'https://images.wsj.net/im-526098?width=115&height=65'},\n",
       "   {'contenturl': 'https://images.wsj.net/im-524113?width=115&height=65'},\n",
       "   {'contenturl': 'https://images.wsj.net/im-525967?width=115&height=65'},\n",
       "   {'contenturl': 'https://images.wsj.net/im-524716?width=115&height=65'}],\n",
       "  'metatags': [{'article.origheadline': 'Eat Outdoors in Indore',\n",
       "    'og:image': 'https://s.wsj.net/public/resources/images/OB-YJ817_iindor_G_20130801011012.jpg',\n",
       "    'twitter:card': 'summary_large_image',\n",
       "    'og:image:width': '553',\n",
       "    'dj.asn': 'i-0654',\n",
       "    'page.site.product': 'WSJ',\n",
       "    'language': 'en-US',\n",
       "    'datelastpubbed': '2013-08-02T06:59:00.000Z',\n",
       "    'article.access': 'free',\n",
       "    'og:description': 'Want delicious street food in India, but bored of the usual Mumbai, Delhi and Kolkata fare? Indore is the place to go.',\n",
       "    'twitter:image:alt': 'Eat Outdoors in Indore',\n",
       "    'article.template': 'full',\n",
       "    'article.section': 'Scene Asia',\n",
       "    'page.content.format': 'responsive',\n",
       "    'article:word_count': '93',\n",
       "    'article.created': '2013-08-02T06:59:00.000Z',\n",
       "    'twitter:domain': 'wsj.com',\n",
       "    'author': 'Shreya Shah',\n",
       "    'fb:pages': '8304333127',\n",
       "    'article:internal_link_count': '1',\n",
       "    'og:locale': 'en_US',\n",
       "    'page.site': 'wsj',\n",
       "    'page.content.type': 'Article',\n",
       "    'article_availability_flag': 'METER',\n",
       "    'article:image_count': '1',\n",
       "    'article.id': 'BL-SJB-11865',\n",
       "    'article.page': 'Food & Drink',\n",
       "    'twitter:image': 'https://s.wsj.net/public/resources/images/OB-YJ817_iindor_G_20130801011012.jpg',\n",
       "    'article.updated': '2013-08-02T06:59:00.000Z',\n",
       "    'twitter:site': '@WSJ',\n",
       "    'news_keywords': 'indore,food drink,sarafa,street food,india,food & drink,Food/Drink,INDORE,FOOD_DRINK,SARAFA',\n",
       "    'page.section': 'Article',\n",
       "    'article.type.display': 'Scene Blog',\n",
       "    'page.region': 'na,us',\n",
       "    'article.summary': 'Want delicious street food in India, but bored of the usual Mumbai, Delhi and Kolkata fare? Indore is the place to go.',\n",
       "    'twitter:title': 'Eat Outdoors in Indore',\n",
       "    'servo-context': 'servo:prod:virginia:article:wsj',\n",
       "    'og:title': 'Eat Outdoors in Indore',\n",
       "    'og:image:height': '369',\n",
       "    'page.content.source': 'WSJ Online',\n",
       "    'page_editorial_keywords': 'INDORE,FOOD_DRINK,SARAFA,STREET_FOOD,INDIA,FOOD & DRINK,FOOD & DRINK,INDIA,INDORE,SARAFA,STREET FOOD,STREET FOOD',\n",
       "    'fb:app_id': '368513495882',\n",
       "    'article.published': '2013-08-02T06:59:00.000Z',\n",
       "    'viewport': 'width=device-width, initial-scale=1.0, minimum-scale=1.0, maximum-scale=2.0',\n",
       "    'user.exp': 'google_bot',\n",
       "    'twitter:description': 'Want delicious street food in India, but bored of the usual Mumbai, Delhi and Kolkata fare? Indore is the place to go.',\n",
       "    'user.type': 'nonsubscriber',\n",
       "    'article.headline': 'Eat Outdoors in Indore',\n",
       "    'og:url': 'https://www.wsj.com/articles/BL-SJB-11865',\n",
       "    'article.type': 'Scene Blog'}],\n",
       "  'webpage': [{'image': 'https://s.wsj.net/public/resources/images/OB-YJ817_iindor_G_20130801011012.jpg',\n",
       "    'datemodified': '2013-08-02T06:59:00.000Z',\n",
       "    'inlanguage': 'en-US',\n",
       "    'description': 'Want delicious street food in India, but bored of the usual Mumbai, Delhi and Kolkata fare? Indore is the place to go.',\n",
       "    'publisher': 'wsj.com',\n",
       "    'datecreated': '2013-08-02T06:59:00.000Z',\n",
       "    'datepublished': '2013-08-02T06:59:00.000Z'}],\n",
       "  'cse_image': [{'src': 'https://s.wsj.net/public/resources/images/OB-YJ817_iindor_G_20130801011012.jpg'}]}}"
      ]
     },
     "execution_count": 31,
     "metadata": {},
     "output_type": "execute_result"
    }
   ],
   "source": [
    "#getting results in json format\n",
    "result['items'][0]"
   ]
  },
  {
   "cell_type": "code",
   "execution_count": 41,
   "metadata": {},
   "outputs": [
    {
     "name": "stdout",
     "output_type": "stream",
     "text": [
      "\n",
      "Eat Outdoors in Indore - WSJ\n",
      "Aug 2, 2013 ... Shohanlal Vyas prepares a \"Jaleba\" at Sarafa, a night food market in the central Indian city of Indore. Shreya Shah/The Wall Street Journal. By.\n",
      "https://www.wsj.com/articles/BL-SJB-11865\n",
      "\n",
      "Property in Indore, Real Estate, Townships in Indore, Flats for Sale ...\n",
      "Hills Vistaa, Best real estate project, residential townships & property in Indore at Super Corridor, Buy 2,3,4 BHK residential flats for sale available at ...\n",
      "https://www.dhillvistaindore.com/\n",
      "\n",
      "Residential Plots for Sale in Indore | GreensVille - DCNPL Hills Vista ...\n",
      "DCNPL GreensVille Indore is a gated residential township that comprises of best residential plots in Indore, which are being getting developed by DCNPL Pvt. Ltd ...\n",
      "https://www.dhillvistaindore.com/best-plots-in-indore-supercorridor-dcnpl-greensville.php\n",
      "\n",
      "Service Apartments in Indore | Furnished Flats on Rent | Studio ...\n",
      "Best service apartments / flats / Condos in Indore at affordable rates. Fully furnished studio apartment & flats on rent with modern amenities & facilities ...\n",
      "https://www.dhillvistaindore.com/best-service-apartments-in-indore.php\n",
      "\n",
      "3 BHK Flats/Apartments in Indore for Sale at Super Corridor near ...\n",
      "3BHK Flats For Sale In Indore. Furnished Type, Non Furnished. Price, Starting From 62.55 Lakhs to 75.06 Lakhs. Area ...\n",
      "https://www.dhillvistaindore.com/3bhk-flat-for-sale-in-indore.php\n",
      "\n",
      "A Negative Stock Report About Indiabulls Led to an Analyst's Arrest ...\n",
      "Sep 15, 2015 ... INDORE, India—When stock analyst Nitin Mangal co-wrote a research report in August 2012 telling investors to sell shares in companies that ...\n",
      "https://www.wsj.com/articles/a-negative-stock-report-about-indiabulls-led-to-an-analysts-arrest-and-a-2-000-mile-odyssey-1442291340\n",
      "\n",
      "IT giant Infosys to open a campus in Indore - DCNPL Hills Vista Indore\n",
      "Feb 24, 2014 ... IT giant Infosys to open a campus in Indore, infosys in indore, supercorridor indore, super corridor indore.\n",
      "https://www.dhillvistaindore.com/top-real-estate-agents-in-indore/133-it-giant-infosys-to-open-a-campus-in-indore-super-corridor.html\n",
      "\n",
      "2,3,4 BHK Flats in Indore, Apartments for sale, Super Corridor Indore ...\n",
      "DCNPL HIlls Vistaa, best real estate property developer & builder in Indore, offering 2,3,4 BHK Flats & Apartment for sale on affordable rates.\n",
      "https://www.dhillvistaindore.com/real-estate-property-project-in-indore-developer-builders.php\n",
      "\n",
      "Reasons to Invest in Indore\n",
      "Nov 25, 2020 ... Super corridor in Indore is one of the major reason to invest in Indore. It is laced with IT hub, best amenities for the residential ...\n",
      "https://www.dhillvistaindore.com/top-real-estate-agents-in-indore/5/Reasons-to-Invest-in-Indore/\n",
      "\n",
      "Times of India Article Mr. Neelesh Jain DCNPL Hills Vistaa Indore ...\n",
      "May 15, 2014 ... DCNPL Hills Vistaa Indore, Best Real Estate residential Township Property in Indore Super Corridor, project having flats apartments plots ...\n",
      "https://www.dhillvistaindore.com/top-real-estate-agents-in-indore/124-indore-prices-rise-by-20-along-super-corridor-times-of-india-mr-neelesh-jain.html\n"
     ]
    }
   ],
   "source": [
    "#selecting title snippet and link from json and displaying in seperate lines\n",
    "for item in result['items']:\n",
    "    print()\n",
    "    print(item['title'])\n",
    "    print(item['snippet'])\n",
    "    print (item['link'])"
   ]
  }
 ],
 "metadata": {
  "kernelspec": {
   "display_name": "Python 3",
   "language": "python",
   "name": "python3"
  },
  "language_info": {
   "codemirror_mode": {
    "name": "ipython",
    "version": 3
   },
   "file_extension": ".py",
   "mimetype": "text/x-python",
   "name": "python",
   "nbconvert_exporter": "python",
   "pygments_lexer": "ipython3",
   "version": "3.8.8"
  }
 },
 "nbformat": 4,
 "nbformat_minor": 2
}
